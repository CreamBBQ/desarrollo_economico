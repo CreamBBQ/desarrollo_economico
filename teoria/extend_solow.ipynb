{
 "cells": [
  {
   "attachments": {},
   "cell_type": "markdown",
   "metadata": {},
   "source": [
    "#### Capital Humano \n",
    "\n",
    "Se incluirá el capital humano en el modelo de Solow. Esto permite que las habilidades de los trabajadores aumenten de forma separada al crecimiento tecnológico. Planteamos así la siguiente ecuación para el producto\n",
    "\n",
    "$$ Y = K^\\alpha (AH)^{1-\\alpha}  $$\n",
    "\n",
    "Donde $ H = e^{\\phi u}L $ y L es el número de trabajadores, u es la cantidad de años de estudio.<span style=\"color:pink\" > Esta medición no escapa de polémica. Los años de estudio pueden ser una mala medida ante diferentes calidades de educación, contexto en el cuál se aplica la educación (alimentación, carreteras, etc.). También depende del área de especialidad. El Cuti Romero cuando se coronó campeón del mundo dijo que su siguiente sueño era terminar la secundaria. Por supuesto que el capital humano del Cuti es infinitamente mayor que el de la mayoría de personas, pero la variable de años de educación no estaría captándolo.  </span>\n",
    "\n",
    "En terminos por trabajador tenemos: \n",
    "\n",
    "$$ h = e^{\\phi u} $$\n",
    "\n",
    "Notemos que $\\phi$ es el incremento en H de una unidad más de tiempo adquiriendo capital humano. Diferenciando ambos lados de la ecuación: \n",
    "\n",
    "$$ dH = \\phi e^{\\phi u} L du = (\\phi H) du \\implies \\dfrac{\\partial H}{H} = \\phi du $$\n",
    "\n",
    "Entonces si $\\phi$ es de 0.10, esto dice que un año más de educación (du = 1) hace incrementar el capital humano (H) en un 10%. Esta formula es consistente con los datos de salario. $\\phi$ es el retorno a un año más de estudio (si termino este año en la facultad ganaré 10% más). \n",
    "\n"
   ]
  },
  {
   "attachments": {},
   "cell_type": "markdown",
   "metadata": {},
   "source": [
    "**Modificando el modelo** \n",
    "\n",
    "Comenzaremos escribiendo las variables en términos por trabajador: \n",
    "\n",
    "$$ \\dfrac{Y}{L} = K^\\alpha A^{1-\\alpha} H^{1-\\alpha} \\dfrac{1}{L} \\dfrac{L^\\alpha}{L^\\alpha}  \\implies y = \\left(\\dfrac{K}{L}\\right)^\\alpha A^{1-\\alpha} \\left(\\dfrac{H}{L}\\right)^{1-\\alpha} $$\n",
    "\n",
    "$$ \\implies y = k^\\alpha (Ah)^{1-\\alpha}$$"
   ]
  },
  {
   "attachments": {},
   "cell_type": "markdown",
   "metadata": {},
   "source": [
    "Tomando logaritmos y derivadas <span style=\"color:pink\"> si tento cualquier variable, le tomo logaritmos y la derivo contra el tiempo voy a obtener la tasa de crecimiento de la variable igualada a un promedio ponderado (por los exponentes originales) de cada una de las variables implicadas </span>\n",
    "\n",
    "$$ \\dfrac{\\dot{y}}{y} = \\alpha \\dfrac{\\dot{k}}{k} + (1-\\alpha) \\dfrac{\\dot{A}}{A} + (1-\\alpha) \\dfrac{\\dot{h}}{h} $$\n",
    "\n",
    "Asumiremos que el capital humanos por trabajador tiene tasa de crecimiento nula pero la tecnología crece a tasa g. \n",
    "\n",
    "$$ \\dfrac{\\dot{h}}{h} = 0 \\space \\space \\space \\space  \\space \\space \\space \\space \\space \\space \\space \\space \\dfrac{\\dot{A}}{A} = g $$\n",
    "\n",
    "Tal y como en el modelo anterior, un crecimiento equilibrado requiere que la tasa de crecimiento del producto por trabajador sea constante. Esto requiere, como antes, que el capital por trabajador también lo sea. Así que se llega a la misma conclusión: \n",
    "\n",
    "$$ \\dfrac{\\dot{y}}{y} = g $$ \n",
    "\n",
    "**El capital humano no altera la tasa de crecimiento de la economía en este modelo**. Como antes, en estado estacionario es cierto que: \n",
    "\n",
    "$$ g = s\\dfrac{y}{s} - (\\delta + n) $$ \n",
    "\n",
    "Reemplazando la expresión de y sabemos que: \n",
    "\n",
    "$$ g = s \\dfrac{(Ah)^{1-\\alpha}}{k^{1-\\alpha}} - (\\delta + n ) $$ \n",
    "\n",
    "Resolviendo k/Ah: \n",
    "\n",
    "$$ \\dfrac{k}{Ah} = \\left( \\dfrac{s}{\\delta + n + g}\\right)^{\\frac{1}{1-\\alpha}} $$\n",
    "\n",
    "A su vez sabemos que: \n",
    "\n",
    "$$ y = Ah \\left(\\dfrac{k}{Ah}\\right)^\\alpha = Ah \\left( \\dfrac{s}{\\delta + n + g}\\right)^{\\frac{\\alpha}{1-\\alpha}} $$ \n",
    "\n",
    "Tenemos entonces una función para el producto en cada momento del tiempo: \n",
    "\n",
    "$$ y(t) = A(t) e^{\\phi u} \\left( \\dfrac{s}{\\delta + n + g}\\right)^{\\frac{1}{1-\\alpha}} $$\n",
    "\n",
    "**Concluimos entonces que el producto por trabajador se ve influenciado en nivel por h que a su vez depende de los años de estudio de los trabajadores, pero la tasa de crecimiento del producto no depende de ninguna de estas variables (solo depende del crecimiento en la tecnología)**. \n",
    "\n",
    "El termino A es normalmente llamado residuo de Solow. El autor original planteó que debería ser igual entre países ya que la tecnología se comparte. No obstante, esto no se se ve en los datos. Asumiendo que la depreciación y g son iguales para todos los países (y se diferencian en tasa de ahorro y crecimiento en la población). El ratio $ y_{india} / y_{USA} $ sobrestima en un 4 veces a la India. **Es decir, decir que la tecnología entre países es idéntica tiende a sobrestimar la capacidad productiva de los países**\n",
    "\n",
    "Sabiendo esto debemos asumir que los A no son estáticos a lo largo del mundo y empezar un $A_{país}$ para cada uno de ellos. "
   ]
  },
  {
   "attachments": {},
   "cell_type": "markdown",
   "metadata": {},
   "source": [
    "**Diferencia en la tasas de crecimiento**\n",
    "\n",
    "La diferencia en las tasas de crecimiento podría deberse a: \n",
    "\n",
    "- La convergencia: hay diferentes tasas de crecimiento porque los países pobres están creciendo más rápido que los países pobres \n",
    "- La convergencia condicional: esto es mucho más realista e impone la condición de donde está el país con respecto a su estado estacionario. Es decir, si vemos un país pobre que está creciendo a pasos agigantados quiere decir que está lejos de su estado estacionario y su capital físico y humano está avanzando camino a un mejor lugar (el crecimiento irá disminuyendo a medida qu se acerque al estado estacionario). No obstante, si vemos un país pobre cuya tasa de crecimiento es estática a lo largo del tiempo podemos pensar que simplemente ese es su estado estacionario y sus fundamentals no generan shocks para que esta situación cambie. \n"
   ]
  }
 ],
 "metadata": {
  "kernelspec": {
   "display_name": "R",
   "language": "R",
   "name": "ir"
  },
  "language_info": {
   "codemirror_mode": "r",
   "file_extension": ".r",
   "mimetype": "text/x-r-source",
   "name": "R",
   "pygments_lexer": "r",
   "version": "4.2.2"
  },
  "orig_nbformat": 4
 },
 "nbformat": 4,
 "nbformat_minor": 2
}
