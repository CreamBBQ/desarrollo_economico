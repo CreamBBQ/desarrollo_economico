{
 "cells": [
  {
   "attachments": {},
   "cell_type": "markdown",
   "metadata": {},
   "source": [
    "#### Modelo de Solow básico \n",
    "\n",
    "En este modelo el PBI real, Y, está dado por una función como $Y = F(K,L)$. Donde K es el stock de capital físico y L el número de trabajadores. Muy a menudo usaremos una función Cobb-Douglas para explicar su comportamiento, es decir, $ Y = K^\\alpha L^{1-\\alpha}$. Este tipo de funciones de producción tienen como característica principal tener retornos constantes a escala, es decir, que si se dobla la cantidad de algunos de los factores, el producto también lo hará. A continuación se presentan los supuestos del modelo: \n",
    "- Hay muchas firmas cada una de ellas produciendo el mismo producto \n",
    "- No hay costos de entrada o salida \n",
    "- Todas ellas usan la misma función de producción \n",
    "- Todas ellas son tomadoras de precios \n",
    "Para la firma representativa sus beneficios están dados por: $\\Pi = K^\\alpha L^{1-\\alpha} - rK - wL$, donde r es la renta del capital y w es el salarios de un trabajador. Tomando condiciones de primer orden para la maximización de estos beneficios llegamos a los resultados comunes: \n",
    "\n",
    "$$ MPL = (1-\\alpha)L^{1-\\alpha-1}K^\\alpha = (1-\\alpha) \\underbrace{\\left(\\dfrac{K}{L}\\right)^\\alpha}_{Y = (\\frac{K}{L})^\\alpha L \\implies \\frac{Y}{L} = (\\frac{K}{L})^\\alpha}  = (1-\\alpha)\\dfrac{Y}{L} = w $$\n",
    "\n",
    "$$ MPk = \\alpha \\dfrac{Y}{K} = r $$\n",
    "\n",
    "Como hay competencia perfecta podemos afirmar de ante mano que es cierto que: \n",
    "\n",
    "$$ \\Pi = Y - rK - wL  = 0$$\n",
    "\n",
    "Calculando la compensación al trabajo y al capital respectivamente se tiene que: \n",
    "\n",
    "$$ \\dfrac{wL}{Y} = (1-\\alpha)\\dfrac{YL}{LY} = (1-\\alpha) $$ \n",
    "\n",
    "$$ \\dfrac{rK}{Y} = \\alpha \\dfrac{YK}{KY} = \\alpha $$\n",
    "\n",
    "Como podemos ver la participación en la producción de los factores es constante. Los datos sugieren que el alpha es de generalmente un 1/3 (lo cual implica que el $ 1- \\alpha$ es de 2/3). <span style=\"color:pink\"> No obstante hay que ser cuidadoso con estos valores para economías en desarrollo ya que las pequeñas empresas cuyos propietarios no cobran un sueldo formal pueden sobrestimar el aporte del capital a la producción. Como son empresas registradas sin empleados todo el producto que se consigue a través de ellas se computa como aporte del capital. Esto puede alterar la lectura de las cuentas nacionales </span>\n",
    "\n",
    "\n"
   ]
  },
  {
   "attachments": {},
   "cell_type": "markdown",
   "metadata": {},
   "source": [
    "Generalmente nos interesa computar no solo el producto bruto, sino también el producto por trabajador que puede ser una buena medida de bienestar en una economía. Dividiendo el producto por L obtenemos: \n",
    "\n",
    "$$ y = \\frac{Y}{L} = \\dfrac{K^\\alpha L^{1-\\alpha}}{L} = \\dfrac{K^\\alpha}{L^\\alpha} = k^\\alpha $$ \n",
    "\n",
    "Donde estamos usando $ y = \\frac{Y}{L} $ y  $k = \\frac{K}{L} $ para representar los valores por trabajador. El capital por trabajador tiene un crecimiento marginal decreciente, es decir, si k incrementa, el producto por trabajador incrementa, pero en menor medida que el crecimiento en el capital por trabajador"
   ]
  },
  {
   "cell_type": "code",
   "execution_count": 16,
   "metadata": {
    "vscode": {
     "languageId": "r"
    }
   },
   "outputs": [
    {
     "data": {
      "image/png": "[encoded data removed]",
      "text/plain": [
       "plot without title"
      ]
     },
     "metadata": {
      "image/png": {
       "height": 420,
       "width": 420
      }
     },
     "output_type": "display_data"
    }
   ],
   "source": [
    "library(dplyr); library(ggplot2); library(ggthemes)\n",
    "data.frame(k = seq(1, 1000, 0.2), y = log(seq(1, 1000, 0.2))) %>%\n",
    "ggplot(aes(x = k, y = y)) +\n",
    "geom_line(size = 1) +\n",
    "labs(y = \"y = k^alpha\\n\") +\n",
    "theme_economist()"
   ]
  },
  {
   "attachments": {},
   "cell_type": "markdown",
   "metadata": {},
   "source": [
    "---------------------------------\n",
    "**Acumulación de capital** \n",
    "El producto depende del capital y el trabajo, así que necesitamos saber como se acumulan estos a lo largo del tiempo. Empecemos con el capital: \n",
    "\n",
    "$$ \\dot{K} = I - \\delta K $$\n",
    "\n",
    "- $\\dot{K}$ es el cambio en el stock de capital. Es el equivalente continuo de $K_{t+1} - K_t $ \n",
    "- I es la inversión bruta \n",
    "- $\\delta K$ es la depreciación. Una fracción ajustada, $ 0 < \\delta < 1  $ del capital existente, se rompe en cada momento del tiempo \n",
    "\n",
    "Sabemos que el ingreso total $(wL + rK)$ es igual al total del producto (Y). Asumiremos que los individuos, quienes trabajan y tienen su propio capital, ahorran una fracción constante, $ 0 < s < 1 $, de su ingreso. La inversión será entonces, en esta economía cerrada, una fracción constante del producto bruto. Podemos reescribir el cambio en el capital como: \n",
    "\n",
    "$$ \\dot{K} = sY - \\delta K $$\n",
    "\n",
    "Será útil también computar la tasa de crecimiento del capital, es decir, dividir la ecuación anterior por K. \n",
    "\n",
    "$$  \\dfrac{\\dot{K}}{K} = \\dfrac{sY}{K} - \\delta  $$\n",
    "\n",
    "Nos interesa también saber como crece el capital por trabajador así que partiendo de su definición y aplicando logaritmos y derivadas se tiene que: \n",
    "\n",
    "$$ k = \\dfrac{K}{L} $$\n",
    "\n",
    "$$ ln(k) = ln(k) - ln(L) $$ \n",
    "\n",
    "$$ \\dfrac{\\partial ln(k)}{\\partial t} = \\dfrac{\\partial ln(K)}{\\partial t} - \\dfrac{\\partial ln(L)}{\\partial t}  \\implies \\dfrac{\\dot{k}}{k} = \\dfrac{\\dot{K}}{K} - \\dfrac{\\dot{L}}{L} = \\dfrac{sY}{K} - \\delta - \\dfrac{\\dot{L}}{L} $$ "
   ]
  },
  {
   "attachments": {},
   "cell_type": "markdown",
   "metadata": {},
   "source": [
    "-------------------------------\n",
    "Derivación matemática de lo anterior: sea f el logaritmo de una variable cualquiera x $(f = ln(x(t)))$ \n",
    "\n",
    "$$ \\implies \\dfrac{\\partial f}{\\partial t} = \\underbrace{\\dfrac{1}{x(t)} \\dfrac{\\partial x(t)}{\\partial t}}_{\\textup{def de tasa de crecimiento}} = \\dfrac{\\dot{x}}{x}$$\n",
    "\n",
    "-------------------------------"
   ]
  },
  {
   "attachments": {},
   "cell_type": "markdown",
   "metadata": {},
   "source": [
    "La última pieza de información que necesitamos es el la tasa de crecimiento del número de trabajadores, $ \\dfrac{\\dot{L}}{L} $, asumiremos que los trabajadores aumentan a la misma tasa que la población. Tenemos entonces: \n",
    "\n",
    "$$ L(t) = L(0) e^{nt} $$\n",
    "\n",
    "Es decir, el número de trabajadores aumenta de forma exponencial por lo que su tasa de crecimiento será n haciendo un proceso análogo al del capital. Reemplazando en la ecuación de crecimiento del capital por trabajador tenemos \n",
    "\n",
    "$$ \\dfrac{\\dot{k}}{k} = s\\dfrac{Y}{K} - \\delta - n $$\n",
    "\n",
    "Reescribiremos la ecuación multiplicando el primer termino de la de la derecha por 1 (L/L) para así dejar todo expresado en términos por trabajador: \n",
    "\n",
    "$$ \\dfrac{\\dot{k}}{k} = s\\dfrac{Y/L}{K/L} - \\delta - n  = s \\dfrac{y}{k} - \\delta - n $$\n",
    "\n",
    "$$ \\implies \\dot{k} = sy - (\\delta + n )k $$\n",
    "\n",
    "Esta es la llamada **ecuación de Solow**. Finalmente podemos escribir el producto per cápita como función de k (recordemos que $y = k^\\alpha$), así que se tiene que: \n",
    "\n",
    "$$ \\dot{k} = sk^\\alpha - (\\delta + n )k $$\n",
    "\n",
    "Resolver el modelo requiere que expresemos todas las variables endógenas en función de las exógenas. \n",
    "\n",
    "Variables endógenas: \n",
    "- Y - y\n",
    "- K - k\n",
    "\n",
    "Variables exógenas:\n",
    "- $\\alpha$ (participación del capital en el producto)\n",
    "- s (tasa de ahorro)\n",
    "- n (tasa de crecimiento de la población)\n",
    "- $\\delta$ (tasa de depreciación del capital)\n",
    "- $k_0$ (el capital inicial por trabajador) \n",
    "\n",
    "No es sencillo obtener una ecuación precisa para k o y, no obstante, se puede ver claramente a través de un gráfico\n",
    "\n",
    "![](../imagenes/Captura%20de%20pantalla%20de%202023-03-09%2016-54-32.png)\n",
    "\n",
    "siendo $k^*$ el nivel de capital por trabajador al que eventualmente llegan los países y que se mantiene constante, es decir, su tasa de crecimiento es nula. \n",
    "\n",
    "$$ 0 = sk^\\alpha - (\\delta + n)k  \\implies k^* = \\left(\\dfrac{s}{\\delta + n} \\right)^{\\frac{1}{1-\\alpha}} $$\n",
    "\n",
    "Notemos que no depende del nivel de capital inicial. Solo depende de los parámetros exógenos del modelo. Esto implica que $k^*$ crece con la cantidad de ahorra y baja con la cantidad de población. **Dado un set de parámetros para cada país estos eventualmente convergen al estado estacionario que les corresponde por sus características. Si un país se encontrara notoriamente alejado de esta cantidad de capital de estado estacionario podría indicar un milagro o un desastre. Porque quire decir que su actualidad no coincide con su set de parámetros**. \n",
    "\n",
    "\n",
    "\n",
    "\n",
    "\n"
   ]
  },
  {
   "attachments": {},
   "cell_type": "markdown",
   "metadata": {},
   "source": [
    "Si un país tienen un shock en su tasa de ahorro el capital por trabajador de estado estacionario subirá \n",
    "\n",
    "![Alt text](../imagenes/Captura%20de%20pantalla%20de%202023-03-09%2017-05-19.png)\n",
    "\n",
    "Esto quiere decir que eventualmente ese país convergirá a una mejor situación. Como el capital actual es menor que el de estado estacionario la tasa de crecimiento del capital se hace positivo y eventualmente se converge. Al crecer el capital por trabajador crece también el producto por trabajador. Pero, ¿que tan rápido se converge? Esto lo podemos saber de la ecuación de Solow: \n",
    "\n",
    "$$ \\dfrac{\\dot{k}}{k} = \\dfrac{s}{k^{1-\\alpha}} - (\\delta + n) $$ \n",
    "\n",
    "Es decir, que cuanto menos capital con respecto al de estado estacionario se tenga más rápido será el crecimiento (notar que la derivada de la tasa de crecimiento con respecto a k es negativa)\n",
    "\n",
    " ![Alt text](../imagenes/Captura%20de%20pantalla%20de%202023-03-09%2017-11-57.png)\n",
    "\n",
    "No obstante, no todas son buenas noticias. Dado que el $\\dot{k} = 0$ en estado estacionario, debe ser cierto que $\\dfrac{\\dot{y}}{y} = 0$ en estado estacionario: \n",
    "\n",
    "$$ ln(y) = \\alpha ln(k) \\implies \\dfrac{\\dot{y}}{y} = \\alpha \\dfrac{\\dot{k}}{k} $$\n",
    "\n",
    "Esto no está en linea con lo que se ve en los datos donde las economía desarrolladas convergen eventualmente a una tasa de crecimiento en su producto bruto interno de alrededor del 2%\n",
    "\n",
    " "
   ]
  },
  {
   "attachments": {},
   "cell_type": "markdown",
   "metadata": {},
   "source": [
    "#### Factor de productividad \n",
    "\n",
    "Para solucionar el problema del crecimiento nulo en el producto per cápita se incorporará un factor tecnológico en la función de producción al que llamaremos A. <span style=\"color:pink\"> Esto puede hacer referencia a cuan efectivo es el empleo, trabajo efectivo, relación con el capital humano </span>\n",
    "\n",
    "$$ Y = K^\\alpha (AL)^{1-\\alpha} \\implies y = K^\\alpha A^{1-\\alpha} L^{-\\alpha} = \\left(\\dfrac{K}{L}\\right)^\\alpha A^{1-\\alpha} = k^\\alpha A^{1-\\alpha} $$ \n",
    "\n",
    "el crecimiento en A permitirá que haya un crecimiento tendencial en la producción por trabajador incluso en estado estacionario. Asumiremos que la tasa de crecimiento del factor tecnológico es g. \n",
    "\n",
    "\n",
    "$$ A(t) = A(0)e^{gt} \\implies \\dfrac{\\dot{A}}{A} = g $$"
   ]
  }
 ],
 "metadata": {
  "kernelspec": {
   "display_name": "R",
   "language": "R",
   "name": "ir"
  },
  "language_info": {
   "codemirror_mode": "r",
   "file_extension": ".r",
   "mimetype": "text/x-r-source",
   "name": "R",
   "pygments_lexer": "r",
   "version": "4.2.2"
  },
  "orig_nbformat": 4
 },
 "nbformat": 4,
 "nbformat_minor": 2
}
