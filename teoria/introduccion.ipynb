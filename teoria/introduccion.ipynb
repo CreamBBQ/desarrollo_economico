{
 "cells": [
  {
   "attachments": {},
   "cell_type": "markdown",
   "metadata": {},
   "source": [
    "#### Desarrollo económico: Introducción\n",
    "\n",
    "El modelos más simple de crecimiento que podemos escribir es: \n",
    "\n",
    "$$ y(t) = y_0e^{gt} $$ \n",
    "\n",
    "- $y(t)$ es el *producto por trabajador* en el periodo t \n",
    "- $y_0$ es el producto por trabajador en un año inicial 0  \n",
    "- $g$ es la tasa de crecimiento del producto por trabajador \n",
    "- $e^{gt}$ genera crecimiento exponencial \n",
    "\n",
    "Como es más simple usar logaritmos para analizar y graficar, tomamos logaritmos y obtenemos:\n",
    "\n",
    "$$ ln[y(t)] = ln(y_0) + gt $$ \n",
    "\n",
    "Una pregunta que surge inmediatamente es como calcular la tasa de crecimiento (g). Para muchos países el crecimiento exponencial es una buena aproximación, esto implica que podemos calcular la tasa de crecimiento promedio corriendo una regresión lineal en: \n",
    "\n",
    "$$ ln[y(t)] = ln(y_0) + gt + \\epsilon (t)$$ \n",
    "\n",
    "Donde epsilon es el desvío porcentual de la tendencia lineal en t. La tasa de crecimiento, asumiendo que epsilon no depende del tiempo, será: \n",
    "\n",
    "$$ g = \\dfrac{\\partial ln[y(t)]}{\\partial t} = \\dfrac{\\frac{\\partial y (t)}{\\partial t}}{y(t)} $$\n",
    "-------------------------------\n",
    "\n",
    "\n",
    "\n"
   ]
  },
  {
   "attachments": {},
   "cell_type": "markdown",
   "metadata": {},
   "source": [
    "Una pregunta interesante es cómo comparar ingresos per cápita entre distintos países que usan diferentes monedas y tienen precios relativos distintos. Esto puede ser abordado de la siguiente manera: \n",
    "- Convertir el PBI nominal de cada país a una moneda común (p.e dólar) con el tipo de cambio \n",
    "- Encontrar el producto real para cada bien dividiendo el gasto doméstico por el precio doméstico \n",
    "- Calcular el \"PBI real en dólares PPP\" valuando el producto real de cada bien a precios internacionales \n",
    "Aunque es importante aclarar que no hay un conjunto de precios \"correctos\" para compara países, pero hay que elegir uno\n",
    "\n",
    "-----------------------------\n",
    "\n"
   ]
  },
  {
   "attachments": {},
   "cell_type": "markdown",
   "metadata": {},
   "source": [
    "El producto por trabajador nos dice cuan productiva es una economía. Para mirar una variable que aproxima mejor el bienestar miramos el producto pre cápita: \n",
    "\n",
    "$$ \\tilde{y}(t) = \\tilde{y}(0)e^{g+I-n}t $$ \n",
    "\n",
    "Donde: \n",
    "- $\\tilde{y}(t)$ es el producto per cápita\n",
    "- $L(t)$ es el número de trabajadores en el período t\n",
    "- $N(t)$ es la población en el periodo t \n",
    "- $g$ es el crecimiento del producto por trabajador \n",
    "- I es el crecimiento de la fuerza de trabajo \n",
    "- n es el crecimiento de la población\n",
    "-------------------------"
   ]
  },
  {
   "attachments": {},
   "cell_type": "markdown",
   "metadata": {},
   "source": [
    "Si bien los países del mundo son muy distintos entre sí, lo cierto es que podemos encontrar algunas regularidades que pueden marcar el sendero del crecimiento económico. \n",
    "\n",
    "**Regularidad 1: hay una gran dispersión de ingresos entre países en el mundo**. La distribución cambia en el tiempo. Existe una tasa de crecimiento común de al rededor de 3% para la mayoría de países. También hay un leve aumento de la desigualdad. Algunos países cambian su posición relativa al mundo y los clasificamos como milagros o desastres. \n",
    "\n",
    "**Regularidad 2: Hay milagros y desastres**. La posición relativa de un país en la distribución global del ingreso no es inamovible. Los países ricos se pueden empobrecer y los pobres enriquecerse. Una de las preguntas fundamentales de este curso es cómo hacen los países para cambiar su lugar en el ranking.\n",
    "\n",
    "**Regularidad 3: Hay una gran variabilidad en las tasas de crecimiento en el mundo**. Hay que distinguir si estas diferencias son transicionales o permanentes. Si son permanentes, eventualmente algunos países van a ser infinitamente más ricos que otros. Pensamos que las diferencias en las tasas de crecimiento son transicionales, por eso muchas veces expresamos el producto per cápita de los países como proporción del producto per cápita de Estados Unidos.  \n",
    "\n",
    "**Regularidad 4: El crecimiento económico moderno empieza con la revolución industrial**. Las tasas de crecimiento no fueron constantes en la historia. Para la economía global el crecimiento previo a este sucedo fue casi nulo. El crecimiento moderno empezó con la revolución industrial y se aceleró en el siglo XX: Para países individuales, las tasas de crecimiento también varían en el tiempo. \n",
    "\n",
    "**Regularidad 5: Crecimiento balanceado - Hechos de Kaldor**. En EEUU (y países con crecimiento estable) es cierto que: la tasa real de retorno al capital, r, no muestra cambios a lo largo del tiempo. Las porciones del ingreso nacional recibida por el trabajo, $\\frac{wL}{Y}$ y el capital, $\\frac{rK}{Y}$, son más o menos constantes durante largos períodos de tiempo. La tasa de crecimiento de la producción por trabajador es más o menos constante durante largos períodos de tiempo. La tasa de crecimiento del stock de capital es más o menos constante durante largos períodos de tiempo. La relación capital/producto es más o menos constante durante largos períodos de tiempo. El salario real crece con el tiempo. \n",
    "\n",
    "**Regularidad 6: El crecimiento del producto y el del comercio internacional estan asociado**. El crecimiento del comercio internacional está asociado con el crecimiento del comercio, pero no necesariamente con el nivel de comercio (Japón no comercia tanto y es rico, México comercia mucho y no es tan rico). El crecimiento rápido del comercio no es necesariamente solo el crecimiento de las exportaciones (China y Corea también aumentaron mucho sus importaciones). "
   ]
  }
 ],
 "metadata": {
  "kernelspec": {
   "display_name": "R",
   "language": "R",
   "name": "ir"
  },
  "language_info": {
   "codemirror_mode": "r",
   "file_extension": ".r",
   "mimetype": "text/x-r-source",
   "name": "R",
   "pygments_lexer": "r",
   "version": "4.2.2"
  },
  "orig_nbformat": 4
 },
 "nbformat": 4,
 "nbformat_minor": 2
}
